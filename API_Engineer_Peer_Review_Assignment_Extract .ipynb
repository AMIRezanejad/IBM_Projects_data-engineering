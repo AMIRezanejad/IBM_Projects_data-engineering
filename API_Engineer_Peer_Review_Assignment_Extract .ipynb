{
 "cells": [
  {
   "cell_type": "markdown",
   "metadata": {},
   "source": [
    "<center>\n",
    "    <img src=\"https://gitlab.com/ibm/skills-network/courses/placeholder101/-/raw/master/labs/module%201/images/IDSNlogo.png\" width=\"300\" alt=\"cognitiveclass.ai logo\"  />\n",
    "</center>\n"
   ]
  },
  {
   "cell_type": "markdown",
   "metadata": {},
   "source": [
    "# Peer Review Assignment - Data Engineer - Extract API Data\n"
   ]
  },
  {
   "cell_type": "markdown",
   "metadata": {},
   "source": [
    "Estimated time needed: **20** minutes\n"
   ]
  },
  {
   "cell_type": "markdown",
   "metadata": {},
   "source": [
    "## Objectives\n",
    "\n",
    "In this part you will:\n",
    "\n",
    "*   Collect exchange rate data using an API\n",
    "*   Store the data as a CSV\n"
   ]
  },
  {
   "cell_type": "markdown",
   "metadata": {},
   "source": [
    "For this lab, we are going to be using Python and several Python libraries. Some of these libraries might be installed in your lab environment or in SN Labs. Others may need to be installed by you. The cells below will install these libraries when executed.\n"
   ]
  },
  {
   "cell_type": "code",
   "execution_count": 4,
   "metadata": {},
   "outputs": [
    {
     "ename": "SyntaxError",
     "evalue": "invalid syntax (3204358811.py, line 1)",
     "output_type": "error",
     "traceback": [
      "\u001b[0;36m  File \u001b[0;32m\"/tmp/ipykernel_68/3204358811.py\"\u001b[0;36m, line \u001b[0;32m1\u001b[0m\n\u001b[0;31m    pip install Pandas\u001b[0m\n\u001b[0m              ^\u001b[0m\n\u001b[0;31mSyntaxError\u001b[0m\u001b[0;31m:\u001b[0m invalid syntax\n"
     ]
    }
   ],
   "source": [
    "pip install Pandas\n",
    "\n"
   ]
  },
  {
   "cell_type": "markdown",
   "metadata": {},
   "source": [
    "## Imports\n",
    "\n",
    "Import any additional libraries you may need here.\n"
   ]
  },
  {
   "cell_type": "code",
   "execution_count": 1,
   "metadata": {},
   "outputs": [],
   "source": [
    "import requests\n",
    "import pandas as pd"
   ]
  },
  {
   "cell_type": "markdown",
   "metadata": {},
   "source": [
    "## Extract Data Using an API\n"
   ]
  },
  {
   "cell_type": "markdown",
   "metadata": {},
   "source": [
    "Using ExchangeRate-API we will extract currency exchange rate data. Use the below steps to get the access key and to get the data.\n",
    "\n",
    "1.  Open the url : [https://exchangeratesapi.io/](https://exchangeratesapi.io/?utm_medium=Exinfluencer&utm_source=Exinfluencer&utm_content=000026UJ&utm_term=10006555&utm_id=NA-SkillsNetwork-Channel-SkillsNetworkCoursesIBMDeveloperSkillsNetworkPY0221ENSkillsNetwork23455645-2021-01-01) and create a free account.\n",
    "2.  Once the account is created. You will get the Get the Free API key option on the top as shown below:\n",
    "\n",
    "<img src=\"https://cf-courses-data.s3.us.cloud-object-storage.appdomain.cloud/IBMDeveloperSkillsNetwork-PY0221EN-SkillsNetwork/labs/module%206/Final%20Assignment/Images/getapi.png\"/>\n",
    "\n",
    "3.  Copy the API key and use in the url in Question 1.\n"
   ]
  },
  {
   "cell_type": "markdown",
   "metadata": {},
   "source": [
    "### Call the API\n",
    "\n",
    "<b> Question 1</b> Using the `requests` library call the endpoint given above and save the text, remember the first few characters of the output:\n"
   ]
  },
  {
   "cell_type": "code",
   "execution_count": 3,
   "metadata": {},
   "outputs": [
    {
     "data": {
      "text/plain": [
       "{'success': True,\n",
       " 'timestamp': 1651603765,\n",
       " 'base': 'EUR',\n",
       " 'date': '2022-05-03',\n",
       " 'rates': {'AED': 3.862676,\n",
       "  'AFN': 89.913098,\n",
       "  'ALL': 120.672806,\n",
       "  'AMD': 474.250245,\n",
       "  'ANG': 1.886477,\n",
       "  'AOA': 427.378929,\n",
       "  'ARS': 121.85682,\n",
       "  'AUD': 1.484145,\n",
       "  'AWG': 1.892904,\n",
       "  'AZN': 1.794857,\n",
       "  'BAM': 1.948923,\n",
       "  'BBD': 2.11343,\n",
       "  'BDT': 90.821829,\n",
       "  'BGN': 1.952378,\n",
       "  'BHD': 0.396456,\n",
       "  'BIF': 2123.206847,\n",
       "  'BMD': 1.051613,\n",
       "  'BND': 1.450851,\n",
       "  'BOB': 7.185535,\n",
       "  'BRL': 5.221575,\n",
       "  'BSD': 1.0467,\n",
       "  'BTC': 2.7914753e-05,\n",
       "  'BTN': 80.246319,\n",
       "  'BWP': 12.733693,\n",
       "  'BYN': 3.521786,\n",
       "  'BYR': 20611.61674,\n",
       "  'BZD': 2.109843,\n",
       "  'CAD': 1.351791,\n",
       "  'CDF': 2123.207095,\n",
       "  'CHF': 1.029866,\n",
       "  'CLF': 0.032623,\n",
       "  'CLP': 900.181135,\n",
       "  'CNY': 6.949372,\n",
       "  'COP': 4233.447304,\n",
       "  'CRC': 696.730673,\n",
       "  'CUC': 1.051613,\n",
       "  'CUP': 27.867747,\n",
       "  'CVE': 110.682229,\n",
       "  'CZK': 24.653991,\n",
       "  'DJF': 186.89293,\n",
       "  'DKK': 7.44052,\n",
       "  'DOP': 57.602323,\n",
       "  'DZD': 152.220361,\n",
       "  'EGP': 19.435596,\n",
       "  'ERN': 15.774199,\n",
       "  'ETB': 54.284938,\n",
       "  'EUR': 1,\n",
       "  'FJD': 2.280266,\n",
       "  'FKP': 0.808314,\n",
       "  'GBP': 0.842889,\n",
       "  'GEL': 3.202138,\n",
       "  'GGP': 0.808314,\n",
       "  'GHS': 7.887623,\n",
       "  'GIP': 0.808314,\n",
       "  'GMD': 56.897071,\n",
       "  'GNF': 9288.602152,\n",
       "  'GTQ': 8.025405,\n",
       "  'GYD': 219.003854,\n",
       "  'HKD': 8.252797,\n",
       "  'HNL': 25.692047,\n",
       "  'HRK': 7.55868,\n",
       "  'HTG': 119.273893,\n",
       "  'HUF': 381.258122,\n",
       "  'IDR': 15214.370252,\n",
       "  'ILS': 3.526748,\n",
       "  'IMP': 0.808314,\n",
       "  'INR': 80.526644,\n",
       "  'IQD': 1535.355125,\n",
       "  'IRR': 44430.653733,\n",
       "  'ISK': 137.803488,\n",
       "  'JEP': 0.808314,\n",
       "  'JMD': 161.674565,\n",
       "  'JOD': 0.7456,\n",
       "  'JPY': 136.911643,\n",
       "  'KES': 121.209135,\n",
       "  'KGS': 86.338906,\n",
       "  'KHR': 4256.929792,\n",
       "  'KMF': 489.789119,\n",
       "  'KPW': 946.451914,\n",
       "  'KRW': 1326.136516,\n",
       "  'KWD': 0.32252,\n",
       "  'KYD': 0.872238,\n",
       "  'KZT': 461.449986,\n",
       "  'LAK': 13026.856236,\n",
       "  'LBP': 1585.026181,\n",
       "  'LKR': 370.837484,\n",
       "  'LRD': 159.327804,\n",
       "  'LSL': 16.962425,\n",
       "  'LTL': 3.10514,\n",
       "  'LVL': 0.636111,\n",
       "  'LYD': 5.014277,\n",
       "  'MAD': 10.495371,\n",
       "  'MDL': 19.521103,\n",
       "  'MGA': 4233.925294,\n",
       "  'MKD': 61.446317,\n",
       "  'MMK': 1937.975174,\n",
       "  'MNT': 3149.437369,\n",
       "  'MOP': 8.461295,\n",
       "  'MRO': 375.425695,\n",
       "  'MUR': 44.902805,\n",
       "  'MVR': 16.247195,\n",
       "  'MWK': 850.971263,\n",
       "  'MXN': 21.335779,\n",
       "  'MYR': 4.578198,\n",
       "  'MZN': 67.123983,\n",
       "  'NAD': 16.962503,\n",
       "  'NGN': 436.619216,\n",
       "  'NIO': 37.486613,\n",
       "  'NOK': 9.895868,\n",
       "  'NPR': 128.403435,\n",
       "  'NZD': 1.636479,\n",
       "  'OMR': 0.404896,\n",
       "  'PAB': 1.046691,\n",
       "  'PEN': 4.029252,\n",
       "  'PGK': 3.735597,\n",
       "  'PHP': 55.224938,\n",
       "  'PKR': 195.263358,\n",
       "  'PLN': 4.692271,\n",
       "  'PYG': 7137.672071,\n",
       "  'QAR': 3.828919,\n",
       "  'RON': 4.948266,\n",
       "  'RSD': 117.381182,\n",
       "  'RUB': 71.904053,\n",
       "  'RWF': 1076.851813,\n",
       "  'SAR': 3.944341,\n",
       "  'SBD': 8.450119,\n",
       "  'SCR': 13.969196,\n",
       "  'SDG': 470.599067,\n",
       "  'SEK': 10.391983,\n",
       "  'SGD': 1.456815,\n",
       "  'SHP': 1.448493,\n",
       "  'SLL': 13250.325164,\n",
       "  'SOS': 608.884402,\n",
       "  'SRD': 21.877236,\n",
       "  'STD': 21766.267951,\n",
       "  'SVC': 9.158846,\n",
       "  'SYP': 2642.124796,\n",
       "  'SZL': 16.736844,\n",
       "  'THB': 36.15405,\n",
       "  'TJS': 13.036228,\n",
       "  'TMT': 3.680646,\n",
       "  'TND': 3.222132,\n",
       "  'TOP': 2.438638,\n",
       "  'TRY': 15.585746,\n",
       "  'TTD': 7.107448,\n",
       "  'TWD': 31.033378,\n",
       "  'TZS': 2433.58854,\n",
       "  'UAH': 30.773133,\n",
       "  'UGX': 3706.364699,\n",
       "  'USD': 1.051613,\n",
       "  'UYU': 42.751271,\n",
       "  'UZS': 11684.719535,\n",
       "  'VEF': 224866662773.22687,\n",
       "  'VND': 24148.717399,\n",
       "  'VUV': 118.392339,\n",
       "  'WST': 2.718885,\n",
       "  'XAF': 653.662186,\n",
       "  'XAG': 0.046695,\n",
       "  'XAU': 0.000563,\n",
       "  'XCD': 2.842037,\n",
       "  'XDR': 0.780168,\n",
       "  'XOF': 653.646702,\n",
       "  'XPF': 119.174019,\n",
       "  'YER': 263.217834,\n",
       "  'ZAR': 16.589564,\n",
       "  'ZMK': 9465.776913,\n",
       "  'ZMW': 17.7678,\n",
       "  'ZWL': 338.618989}}"
      ]
     },
     "execution_count": 3,
     "metadata": {},
     "output_type": "execute_result"
    }
   ],
   "source": [
    "# Write your code here\n",
    "url = \"http://api.exchangeratesapi.io/v1/latest?base=EUR&access_key=aa530f57b8af0133f688716b8fbb75d9\"  #Make sure to change ******* to your API key.\n",
    "#url = \"http://api.exchangeratesapi.io/v1/latest?base=EUR&access_key=3ae8a41ae8b314fe2c76abee00969ef2\"  #Make sure to change ******* to your API key.\n",
    "response = requests.get(url)\n",
    "response.json()"
   ]
  },
  {
   "cell_type": "markdown",
   "metadata": {},
   "source": [
    "### Save as DataFrame\n",
    "\n",
    "<b> Question 2</b>  Using the data gathered turn it into a `pandas` dataframe. The dataframe should have the Currency as the index and `Rate` as their columns. Make sure to drop unnecessary columns.\n"
   ]
  },
  {
   "cell_type": "code",
   "execution_count": 13,
   "metadata": {},
   "outputs": [
    {
     "data": {
      "text/html": [
       "<div>\n",
       "<style scoped>\n",
       "    .dataframe tbody tr th:only-of-type {\n",
       "        vertical-align: middle;\n",
       "    }\n",
       "\n",
       "    .dataframe tbody tr th {\n",
       "        vertical-align: top;\n",
       "    }\n",
       "\n",
       "    .dataframe thead th {\n",
       "        text-align: right;\n",
       "    }\n",
       "</style>\n",
       "<table border=\"1\" class=\"dataframe\">\n",
       "  <thead>\n",
       "    <tr style=\"text-align: right;\">\n",
       "      <th></th>\n",
       "      <th>success</th>\n",
       "      <th>timestamp</th>\n",
       "      <th>base</th>\n",
       "      <th>date</th>\n",
       "      <th>rates</th>\n",
       "    </tr>\n",
       "  </thead>\n",
       "  <tbody>\n",
       "    <tr>\n",
       "      <th>AED</th>\n",
       "      <td>True</td>\n",
       "      <td>1651603765</td>\n",
       "      <td>EUR</td>\n",
       "      <td>2022-05-03</td>\n",
       "      <td>3.862676</td>\n",
       "    </tr>\n",
       "    <tr>\n",
       "      <th>AFN</th>\n",
       "      <td>True</td>\n",
       "      <td>1651603765</td>\n",
       "      <td>EUR</td>\n",
       "      <td>2022-05-03</td>\n",
       "      <td>89.913098</td>\n",
       "    </tr>\n",
       "    <tr>\n",
       "      <th>ALL</th>\n",
       "      <td>True</td>\n",
       "      <td>1651603765</td>\n",
       "      <td>EUR</td>\n",
       "      <td>2022-05-03</td>\n",
       "      <td>120.672806</td>\n",
       "    </tr>\n",
       "    <tr>\n",
       "      <th>AMD</th>\n",
       "      <td>True</td>\n",
       "      <td>1651603765</td>\n",
       "      <td>EUR</td>\n",
       "      <td>2022-05-03</td>\n",
       "      <td>474.250245</td>\n",
       "    </tr>\n",
       "    <tr>\n",
       "      <th>ANG</th>\n",
       "      <td>True</td>\n",
       "      <td>1651603765</td>\n",
       "      <td>EUR</td>\n",
       "      <td>2022-05-03</td>\n",
       "      <td>1.886477</td>\n",
       "    </tr>\n",
       "    <tr>\n",
       "      <th>...</th>\n",
       "      <td>...</td>\n",
       "      <td>...</td>\n",
       "      <td>...</td>\n",
       "      <td>...</td>\n",
       "      <td>...</td>\n",
       "    </tr>\n",
       "    <tr>\n",
       "      <th>YER</th>\n",
       "      <td>True</td>\n",
       "      <td>1651603765</td>\n",
       "      <td>EUR</td>\n",
       "      <td>2022-05-03</td>\n",
       "      <td>263.217834</td>\n",
       "    </tr>\n",
       "    <tr>\n",
       "      <th>ZAR</th>\n",
       "      <td>True</td>\n",
       "      <td>1651603765</td>\n",
       "      <td>EUR</td>\n",
       "      <td>2022-05-03</td>\n",
       "      <td>16.589564</td>\n",
       "    </tr>\n",
       "    <tr>\n",
       "      <th>ZMK</th>\n",
       "      <td>True</td>\n",
       "      <td>1651603765</td>\n",
       "      <td>EUR</td>\n",
       "      <td>2022-05-03</td>\n",
       "      <td>9465.776913</td>\n",
       "    </tr>\n",
       "    <tr>\n",
       "      <th>ZMW</th>\n",
       "      <td>True</td>\n",
       "      <td>1651603765</td>\n",
       "      <td>EUR</td>\n",
       "      <td>2022-05-03</td>\n",
       "      <td>17.767800</td>\n",
       "    </tr>\n",
       "    <tr>\n",
       "      <th>ZWL</th>\n",
       "      <td>True</td>\n",
       "      <td>1651603765</td>\n",
       "      <td>EUR</td>\n",
       "      <td>2022-05-03</td>\n",
       "      <td>338.618989</td>\n",
       "    </tr>\n",
       "  </tbody>\n",
       "</table>\n",
       "<p>168 rows × 5 columns</p>\n",
       "</div>"
      ],
      "text/plain": [
       "     success   timestamp base        date        rates\n",
       "AED     True  1651603765  EUR  2022-05-03     3.862676\n",
       "AFN     True  1651603765  EUR  2022-05-03    89.913098\n",
       "ALL     True  1651603765  EUR  2022-05-03   120.672806\n",
       "AMD     True  1651603765  EUR  2022-05-03   474.250245\n",
       "ANG     True  1651603765  EUR  2022-05-03     1.886477\n",
       "..       ...         ...  ...         ...          ...\n",
       "YER     True  1651603765  EUR  2022-05-03   263.217834\n",
       "ZAR     True  1651603765  EUR  2022-05-03    16.589564\n",
       "ZMK     True  1651603765  EUR  2022-05-03  9465.776913\n",
       "ZMW     True  1651603765  EUR  2022-05-03    17.767800\n",
       "ZWL     True  1651603765  EUR  2022-05-03   338.618989\n",
       "\n",
       "[168 rows x 5 columns]"
      ]
     },
     "execution_count": 13,
     "metadata": {},
     "output_type": "execute_result"
    }
   ],
   "source": [
    "# Turn the data into a dataframe\n",
    "dataframe = pd.DataFrame(response.json())\n",
    "dataframe"
   ]
  },
  {
   "cell_type": "code",
   "execution_count": 14,
   "metadata": {},
   "outputs": [
    {
     "data": {
      "text/html": [
       "<div>\n",
       "<style scoped>\n",
       "    .dataframe tbody tr th:only-of-type {\n",
       "        vertical-align: middle;\n",
       "    }\n",
       "\n",
       "    .dataframe tbody tr th {\n",
       "        vertical-align: top;\n",
       "    }\n",
       "\n",
       "    .dataframe thead th {\n",
       "        text-align: right;\n",
       "    }\n",
       "</style>\n",
       "<table border=\"1\" class=\"dataframe\">\n",
       "  <thead>\n",
       "    <tr style=\"text-align: right;\">\n",
       "      <th></th>\n",
       "      <th>rates</th>\n",
       "    </tr>\n",
       "  </thead>\n",
       "  <tbody>\n",
       "    <tr>\n",
       "      <th>AED</th>\n",
       "      <td>3.862676</td>\n",
       "    </tr>\n",
       "    <tr>\n",
       "      <th>AFN</th>\n",
       "      <td>89.913098</td>\n",
       "    </tr>\n",
       "    <tr>\n",
       "      <th>ALL</th>\n",
       "      <td>120.672806</td>\n",
       "    </tr>\n",
       "    <tr>\n",
       "      <th>AMD</th>\n",
       "      <td>474.250245</td>\n",
       "    </tr>\n",
       "    <tr>\n",
       "      <th>ANG</th>\n",
       "      <td>1.886477</td>\n",
       "    </tr>\n",
       "    <tr>\n",
       "      <th>...</th>\n",
       "      <td>...</td>\n",
       "    </tr>\n",
       "    <tr>\n",
       "      <th>YER</th>\n",
       "      <td>263.217834</td>\n",
       "    </tr>\n",
       "    <tr>\n",
       "      <th>ZAR</th>\n",
       "      <td>16.589564</td>\n",
       "    </tr>\n",
       "    <tr>\n",
       "      <th>ZMK</th>\n",
       "      <td>9465.776913</td>\n",
       "    </tr>\n",
       "    <tr>\n",
       "      <th>ZMW</th>\n",
       "      <td>17.767800</td>\n",
       "    </tr>\n",
       "    <tr>\n",
       "      <th>ZWL</th>\n",
       "      <td>338.618989</td>\n",
       "    </tr>\n",
       "  </tbody>\n",
       "</table>\n",
       "<p>168 rows × 1 columns</p>\n",
       "</div>"
      ],
      "text/plain": [
       "           rates\n",
       "AED     3.862676\n",
       "AFN    89.913098\n",
       "ALL   120.672806\n",
       "AMD   474.250245\n",
       "ANG     1.886477\n",
       "..           ...\n",
       "YER   263.217834\n",
       "ZAR    16.589564\n",
       "ZMK  9465.776913\n",
       "ZMW    17.767800\n",
       "ZWL   338.618989\n",
       "\n",
       "[168 rows x 1 columns]"
      ]
     },
     "execution_count": 14,
     "metadata": {},
     "output_type": "execute_result"
    }
   ],
   "source": [
    "dataframe.drop(columns=[\"success\", \"timestamp\", \"base\", \"date\"], inplace=True)\n",
    "dataframe\n"
   ]
  },
  {
   "cell_type": "code",
   "execution_count": 27,
   "metadata": {},
   "outputs": [
    {
     "data": {
      "text/plain": [
       "rates    0.842889\n",
       "Name: GBP, dtype: float64"
      ]
     },
     "execution_count": 27,
     "metadata": {},
     "output_type": "execute_result"
    }
   ],
   "source": [
    "dataframe.loc['GBP']"
   ]
  },
  {
   "cell_type": "code",
   "execution_count": null,
   "metadata": {},
   "outputs": [],
   "source": [
    "# Save the Dataframe\n",
    "dataframe.to_csv(\"/home/gustavo/Documents/Working_dir/DataEngineerIBM/Course3/exchange_rates_1.csv\")"
   ]
  },
  {
   "cell_type": "markdown",
   "metadata": {},
   "source": [
    "Your CSV should be in this format with more currencies\n",
    "\n",
    "|     | Rates      |\n",
    "| --- | ---------- |\n",
    "| AED | 4.398618   |\n",
    "| AFN | 92.917693  |\n",
    "| ALL | 123.099093 |\n",
    "| AMD | 621.935674 |\n",
    "| ANG | 2.149648   |\n"
   ]
  },
  {
   "cell_type": "markdown",
   "metadata": {},
   "source": [
    "## Authors\n"
   ]
  },
  {
   "cell_type": "markdown",
   "metadata": {},
   "source": [
    "Ramesh Sannareddy, Joseph Santarcangelo and Azim Hirjani\n"
   ]
  },
  {
   "cell_type": "markdown",
   "metadata": {},
   "source": [
    "### Other Contributors\n"
   ]
  },
  {
   "cell_type": "markdown",
   "metadata": {},
   "source": [
    "Rav Ahuja\n"
   ]
  },
  {
   "cell_type": "markdown",
   "metadata": {},
   "source": [
    "## Change Log\n"
   ]
  },
  {
   "cell_type": "markdown",
   "metadata": {},
   "source": [
    "| Date (YYYY-MM-DD) | Version | Changed By        | Change Description                 |\n",
    "| ----------------- | ------- | ----------------- | ---------------------------------- |\n",
    "| 2021-04-15        | 0.2     | Malika            | Updated the lab from USD to EUR    |\n",
    "| 2020-11-25        | 0.1     | Ramesh Sannareddy | Created initial version of the lab |\n"
   ]
  },
  {
   "cell_type": "markdown",
   "metadata": {},
   "source": [
    "Copyright © 2020 IBM Corporation. This notebook and its source code are released under the terms of the [MIT License](https://cognitiveclass.ai/mit-license?utm_medium=Exinfluencer&utm_source=Exinfluencer&utm_content=000026UJ&utm_term=10006555&utm_id=NA-SkillsNetwork-Channel-SkillsNetworkCoursesIBMDeveloperSkillsNetworkPY0221ENSkillsNetwork23455645-2021-01-01&cm_mmc=Email_Newsletter-\\_-Developer_Ed%2BTech-\\_-WW_WW-\\_-SkillsNetwork-Courses-IBM-DA0321EN-SkillsNetwork-21426264&cm_mmca1=000026UJ&cm_mmca2=10006555&cm_mmca3=M12345678&cvosrc=email.Newsletter.M12345678&cvo_campaign=000026UJ).\n"
   ]
  }
 ],
 "metadata": {
  "kernelspec": {
   "display_name": "Python",
   "language": "python",
   "name": "conda-env-python-py"
  },
  "language_info": {
   "codemirror_mode": {
    "name": "ipython",
    "version": 3
   },
   "file_extension": ".py",
   "mimetype": "text/x-python",
   "name": "python",
   "nbconvert_exporter": "python",
   "pygments_lexer": "ipython3",
   "version": "3.7.12"
  }
 },
 "nbformat": 4,
 "nbformat_minor": 4
}
